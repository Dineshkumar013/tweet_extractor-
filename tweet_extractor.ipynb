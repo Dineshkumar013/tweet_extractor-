{
  "nbformat": 4,
  "nbformat_minor": 0,
  "metadata": {
    "colab": {
      "name": "tweet_extractor.ipynb",
      "provenance": [],
      "include_colab_link": true
    },
    "kernelspec": {
      "name": "python3",
      "display_name": "Python 3"
    },
    "language_info": {
      "name": "python"
    },
    "accelerator": "GPU"
  },
  "cells": [
    {
      "cell_type": "markdown",
      "metadata": {
        "id": "view-in-github",
        "colab_type": "text"
      },
      "source": [
        "<a href=\"https://colab.research.google.com/github/Dineshkumar013/tweet_extractor-/blob/main/tweet_extractor.ipynb\" target=\"_parent\"><img src=\"https://colab.research.google.com/assets/colab-badge.svg\" alt=\"Open In Colab\"/></a>"
      ]
    },
    {
      "cell_type": "code",
      "metadata": {
        "colab": {
          "base_uri": "https://localhost:8080/"
        },
        "id": "Jbb3jFolun3f",
        "outputId": "667c9ee1-c395-46b2-fc1e-98accef4d661"
      },
      "source": [
        "!pip install twint\n",
        "!pip3 install --user --upgrade git+https://github.com/twintproject/twint.git@origin/master#egg=twint\n",
        "import twint"
      ],
      "execution_count": null,
      "outputs": [
        {
          "output_type": "stream",
          "text": [
            "Requirement already satisfied: twint in /root/.local/lib/python3.7/site-packages (2.1.21)\n",
            "Requirement already satisfied: pysocks in /usr/local/lib/python3.7/dist-packages (from twint) (1.7.1)\n",
            "Requirement already satisfied: beautifulsoup4 in /usr/local/lib/python3.7/dist-packages (from twint) (4.6.3)\n",
            "Requirement already satisfied: geopy in /usr/local/lib/python3.7/dist-packages (from twint) (1.17.0)\n",
            "Requirement already satisfied: aiohttp in /usr/local/lib/python3.7/dist-packages (from twint) (3.7.4.post0)\n",
            "Requirement already satisfied: aiodns in /usr/local/lib/python3.7/dist-packages (from twint) (3.0.0)\n",
            "Requirement already satisfied: elasticsearch in /usr/local/lib/python3.7/dist-packages (from twint) (7.14.0)\n",
            "Requirement already satisfied: dataclasses in /root/.local/lib/python3.7/site-packages (from twint) (0.6)\n",
            "Requirement already satisfied: fake-useragent in /usr/local/lib/python3.7/dist-packages (from twint) (0.1.11)\n",
            "Requirement already satisfied: cchardet in /usr/local/lib/python3.7/dist-packages (from twint) (2.1.7)\n",
            "Requirement already satisfied: googletransx in /usr/local/lib/python3.7/dist-packages (from twint) (2.4.2)\n",
            "Requirement already satisfied: aiohttp-socks in /usr/local/lib/python3.7/dist-packages (from twint) (0.6.0)\n",
            "Requirement already satisfied: schedule in /usr/local/lib/python3.7/dist-packages (from twint) (1.1.0)\n",
            "Requirement already satisfied: pandas in /usr/local/lib/python3.7/dist-packages (from twint) (1.1.5)\n",
            "Requirement already satisfied: pycares>=4.0.0 in /usr/local/lib/python3.7/dist-packages (from aiodns->twint) (4.0.0)\n",
            "Requirement already satisfied: cffi>=1.5.0 in /usr/local/lib/python3.7/dist-packages (from pycares>=4.0.0->aiodns->twint) (1.14.6)\n",
            "Requirement already satisfied: pycparser in /usr/local/lib/python3.7/dist-packages (from cffi>=1.5.0->pycares>=4.0.0->aiodns->twint) (2.20)\n",
            "Requirement already satisfied: chardet<5.0,>=2.0 in /usr/local/lib/python3.7/dist-packages (from aiohttp->twint) (3.0.4)\n",
            "Requirement already satisfied: multidict<7.0,>=4.5 in /usr/local/lib/python3.7/dist-packages (from aiohttp->twint) (5.1.0)\n",
            "Requirement already satisfied: typing-extensions>=3.6.5 in /usr/local/lib/python3.7/dist-packages (from aiohttp->twint) (3.7.4.3)\n",
            "Requirement already satisfied: attrs>=17.3.0 in /usr/local/lib/python3.7/dist-packages (from aiohttp->twint) (21.2.0)\n",
            "Requirement already satisfied: yarl<2.0,>=1.0 in /usr/local/lib/python3.7/dist-packages (from aiohttp->twint) (1.6.3)\n",
            "Requirement already satisfied: async-timeout<4.0,>=3.0 in /usr/local/lib/python3.7/dist-packages (from aiohttp->twint) (3.0.1)\n",
            "Requirement already satisfied: idna>=2.0 in /usr/local/lib/python3.7/dist-packages (from yarl<2.0,>=1.0->aiohttp->twint) (2.10)\n",
            "Requirement already satisfied: python-socks[asyncio]>=1.2.2 in /usr/local/lib/python3.7/dist-packages (from aiohttp-socks->twint) (1.2.4)\n",
            "Requirement already satisfied: certifi in /usr/local/lib/python3.7/dist-packages (from elasticsearch->twint) (2021.5.30)\n",
            "Requirement already satisfied: urllib3<2,>=1.21.1 in /usr/local/lib/python3.7/dist-packages (from elasticsearch->twint) (1.24.3)\n",
            "Requirement already satisfied: geographiclib<2,>=1.49 in /usr/local/lib/python3.7/dist-packages (from geopy->twint) (1.52)\n",
            "Requirement already satisfied: requests in /usr/local/lib/python3.7/dist-packages (from googletransx->twint) (2.23.0)\n",
            "Requirement already satisfied: python-dateutil>=2.7.3 in /usr/local/lib/python3.7/dist-packages (from pandas->twint) (2.8.2)\n",
            "Requirement already satisfied: numpy>=1.15.4 in /usr/local/lib/python3.7/dist-packages (from pandas->twint) (1.19.5)\n",
            "Requirement already satisfied: pytz>=2017.2 in /usr/local/lib/python3.7/dist-packages (from pandas->twint) (2018.9)\n",
            "Requirement already satisfied: six>=1.5 in /usr/local/lib/python3.7/dist-packages (from python-dateutil>=2.7.3->pandas->twint) (1.15.0)\n",
            "Collecting twint\n",
            "  Cloning https://github.com/twintproject/twint.git (to revision origin/master) to /tmp/pip-install-0iox07qm/twint_8180dd4cc4ec4dd3a55755fb3e1aeb13\n",
            "  Running command git clone -q https://github.com/twintproject/twint.git /tmp/pip-install-0iox07qm/twint_8180dd4cc4ec4dd3a55755fb3e1aeb13\n",
            "\u001b[33m  WARNING: Did not find branch or tag 'origin/master', assuming revision or ref.\u001b[0m\n",
            "  Running command git checkout -q origin/master\n",
            "Requirement already satisfied: aiohttp in /usr/local/lib/python3.7/dist-packages (from twint) (3.7.4.post0)\n",
            "Requirement already satisfied: aiodns in /usr/local/lib/python3.7/dist-packages (from twint) (3.0.0)\n",
            "Requirement already satisfied: beautifulsoup4 in /usr/local/lib/python3.7/dist-packages (from twint) (4.6.3)\n",
            "Requirement already satisfied: cchardet in /usr/local/lib/python3.7/dist-packages (from twint) (2.1.7)\n",
            "Requirement already satisfied: dataclasses in /root/.local/lib/python3.7/site-packages (from twint) (0.6)\n",
            "Requirement already satisfied: elasticsearch in /usr/local/lib/python3.7/dist-packages (from twint) (7.14.0)\n",
            "Requirement already satisfied: pysocks in /usr/local/lib/python3.7/dist-packages (from twint) (1.7.1)\n",
            "Requirement already satisfied: pandas in /usr/local/lib/python3.7/dist-packages (from twint) (1.1.5)\n",
            "Requirement already satisfied: aiohttp_socks in /usr/local/lib/python3.7/dist-packages (from twint) (0.6.0)\n",
            "Requirement already satisfied: schedule in /usr/local/lib/python3.7/dist-packages (from twint) (1.1.0)\n",
            "Requirement already satisfied: geopy in /usr/local/lib/python3.7/dist-packages (from twint) (1.17.0)\n",
            "Requirement already satisfied: fake-useragent in /usr/local/lib/python3.7/dist-packages (from twint) (0.1.11)\n",
            "Requirement already satisfied: googletransx in /usr/local/lib/python3.7/dist-packages (from twint) (2.4.2)\n",
            "Requirement already satisfied: pycares>=4.0.0 in /usr/local/lib/python3.7/dist-packages (from aiodns->twint) (4.0.0)\n",
            "Requirement already satisfied: cffi>=1.5.0 in /usr/local/lib/python3.7/dist-packages (from pycares>=4.0.0->aiodns->twint) (1.14.6)\n",
            "Requirement already satisfied: pycparser in /usr/local/lib/python3.7/dist-packages (from cffi>=1.5.0->pycares>=4.0.0->aiodns->twint) (2.20)\n",
            "Requirement already satisfied: yarl<2.0,>=1.0 in /usr/local/lib/python3.7/dist-packages (from aiohttp->twint) (1.6.3)\n",
            "Requirement already satisfied: attrs>=17.3.0 in /usr/local/lib/python3.7/dist-packages (from aiohttp->twint) (21.2.0)\n",
            "Requirement already satisfied: typing-extensions>=3.6.5 in /usr/local/lib/python3.7/dist-packages (from aiohttp->twint) (3.7.4.3)\n",
            "Requirement already satisfied: chardet<5.0,>=2.0 in /usr/local/lib/python3.7/dist-packages (from aiohttp->twint) (3.0.4)\n",
            "Requirement already satisfied: multidict<7.0,>=4.5 in /usr/local/lib/python3.7/dist-packages (from aiohttp->twint) (5.1.0)\n",
            "Requirement already satisfied: async-timeout<4.0,>=3.0 in /usr/local/lib/python3.7/dist-packages (from aiohttp->twint) (3.0.1)\n",
            "Requirement already satisfied: idna>=2.0 in /usr/local/lib/python3.7/dist-packages (from yarl<2.0,>=1.0->aiohttp->twint) (2.10)\n",
            "Requirement already satisfied: python-socks[asyncio]>=1.2.2 in /usr/local/lib/python3.7/dist-packages (from aiohttp_socks->twint) (1.2.4)\n",
            "Requirement already satisfied: certifi in /usr/local/lib/python3.7/dist-packages (from elasticsearch->twint) (2021.5.30)\n",
            "Requirement already satisfied: urllib3<2,>=1.21.1 in /usr/local/lib/python3.7/dist-packages (from elasticsearch->twint) (1.24.3)\n",
            "Requirement already satisfied: geographiclib<2,>=1.49 in /usr/local/lib/python3.7/dist-packages (from geopy->twint) (1.52)\n",
            "Requirement already satisfied: requests in /usr/local/lib/python3.7/dist-packages (from googletransx->twint) (2.23.0)\n",
            "Requirement already satisfied: python-dateutil>=2.7.3 in /usr/local/lib/python3.7/dist-packages (from pandas->twint) (2.8.2)\n",
            "Requirement already satisfied: pytz>=2017.2 in /usr/local/lib/python3.7/dist-packages (from pandas->twint) (2018.9)\n",
            "Requirement already satisfied: numpy>=1.15.4 in /usr/local/lib/python3.7/dist-packages (from pandas->twint) (1.19.5)\n",
            "Requirement already satisfied: six>=1.5 in /usr/local/lib/python3.7/dist-packages (from python-dateutil>=2.7.3->pandas->twint) (1.15.0)\n"
          ],
          "name": "stdout"
        }
      ]
    },
    {
      "cell_type": "code",
      "metadata": {
        "colab": {
          "base_uri": "https://localhost:8080/"
        },
        "id": "_mnkw90ppftl",
        "outputId": "660f87ef-fd6d-41df-dcfb-ec08c4da85e2"
      },
      "source": [
        "from google.colab import drive\n",
        "drive.mount('/content/drive')"
      ],
      "execution_count": null,
      "outputs": [
        {
          "output_type": "stream",
          "text": [
            "Drive already mounted at /content/drive; to attempt to forcibly remount, call drive.mount(\"/content/drive\", force_remount=True).\n"
          ],
          "name": "stdout"
        }
      ]
    },
    {
      "cell_type": "code",
      "metadata": {
        "id": "E6cFfK9fwqgj"
      },
      "source": [
        "import asyncio\n",
        "import nest_asyncio\n",
        "nest_asyncio.apply()"
      ],
      "execution_count": null,
      "outputs": []
    },
    {
      "cell_type": "code",
      "metadata": {
        "id": "GtaaNI0dvBaA"
      },
      "source": [
        "config = twint.Config()\n",
        "config.Search = \"disgusting\"\n",
        "config.Lang = \"en\"\n",
        "config.Limit = 1000\n",
        "config.Since = \"2007-07-2 18:54:55\"\n",
        "config.Until = \"2020-06-22 18:54:55\"\n",
        "config.Store_csv = True\n",
        "config.Output = '/content/drive/My Drive/general_discriminate_1000.csv'"
      ],
      "execution_count": null,
      "outputs": []
    },
    {
      "cell_type": "code",
      "metadata": {
        "id": "0IDfTvprvOGj",
        "colab": {
          "base_uri": "https://localhost:8080/"
        },
        "outputId": "151ce4ff-5113-480a-9d6e-3a14dcae386a"
      },
      "source": [
        "twint.run.Search(config)\n"
      ],
      "execution_count": null,
      "outputs": [
        {
          "output_type": "stream",
          "text": [
            "1275140215200526337 2020-06-22 18:54:52 +0000 <darthdunsparce> am I the only one who finds that aheago face fucking disgusting\n",
            "1275140212126109699 2020-06-22 18:54:52 +0000 <Breloominonion> @Sierradawnx3 So disgusting. How can someone type “you are so fuckable btw” and have the nerve to hit send smh\n",
            "1275140208137089025 2020-06-22 18:54:51 +0000 <shaniasatisfxn> @CaptainSteveXXX Disgusting. She’s not the only queen running shows that are like this. Getting away with racist comments, racial biases, selfishness and the list goes on. Some of them if not racist still have micro aggressions against other types of performers and won’t book them in shows.\n",
            "1275140201845751815 2020-06-22 18:54:49 +0000 <PhinsMSP> @joniernst @GreenfieldIowa As disgusting a human being as you are I'm actually embarrassed for you right now. The fact that you can't comprehend how pandering this is only furthers the case that your judgment is shit.\n",
            "1275140197592838144 2020-06-22 18:54:48 +0000 <Dark4eyes> @realDonaldTrump Not harrassment to tell the TRUTH about a disgusting LOSER!  https://t.co/M9aHuSsIru\n",
            "1275140189925650432 2020-06-22 18:54:46 +0000 <Arumlily92> @lchemaz Yepa avondale is also dirty..their restrooms are always...always filthy and disgusting\n",
            "1275140188822310917 2020-06-22 18:54:46 +0000 <Leafsmama> @Nasty_Woman1 #DISGUSTING EVERYONE EVERYWHERE HAS A RIGHT TO VOTE AND IT SHOULD BE EASY FOR EVERYONE @realDonaldTrump\n",
            "1275140187438415872 2020-06-22 18:54:46 +0000 <Shogipancakes> @DeletusCommit That pedophilaia is disgusting. Do u think pedophilia’s ok? Cause u obviously do. And people like u, deserve fates worse than death.\n",
            "1275140186717007874 2020-06-22 18:54:46 +0000 <whyisfreedomdy1> The GOP enablers (especially the Senate cowards) culpable in the murder of Americans.  Disgusting.\n",
            "1275140185819213825 2020-06-22 18:54:45 +0000 <roocheetah> @shreemiverma Oh god I remember that disgusting monstrosity\n",
            "1275140185584316417 2020-06-22 18:54:45 +0000 <darjaz> He’s a sick human.  #Selfish  #Disgusting  #FailureInChief  https://t.co/rpaA1mPAcV\n",
            "1275140181272584193 2020-06-22 18:54:44 +0000 <ajenn1301> @RealBrandonDonk Many of my co workers were pissed.   It’s such crap to cater to all those “protected “ groups but straight and white is ignored.  If we formed a group then we’d be the KKK or some other white pride disgusting name that we absolutely aren’t.   GD lib California\n",
            "1275140178349371394 2020-06-22 18:54:44 +0000 <Jules_2010> TikTok users, K-pop fans say they helped sabotage Trump rally with false registrations  SICK &amp;DISGUSTING PEOPLE  https://t.co/Vup8u6qRna\n",
            "1275140168337555458 2020-06-22 18:54:41 +0000 <amberella06> @NickCarboniWCNC I mean---someone who is there right now committed that disgusting act -- right???\n",
            "1275140162847215617 2020-06-22 18:54:40 +0000 <sleepybanan> This is disgusting\n",
            "1275140161693679618 2020-06-22 18:54:40 +0000 <lame_virgin> Congrats nicki i guess... but also fuck u 69 u disgusting piece of shit\n",
            "1275140154328481801 2020-06-22 18:54:38 +0000 <_iamsaad_> @abdulqader2919 Most disgusting thing I've seen all day\n",
            "1275140144648118284 2020-06-22 18:54:36 +0000 <iamjjb> @shawngorlando This is... disgusting. These people shouldn’t even be allowed into the parks, let alone Epcot where diversity and culture is supposed to be celebrated. This white washed elitist Disblogger culture is yet another blow to the community that has done little to redeem itself.\n",
            "1275140141993136133 2020-06-22 18:54:35 +0000 <SkyeTheCloud> @kyawas That's so disgusting I'm sorry that happened to you. I don't understand how people think that's funny in the slightest, genuinely...\n",
            "1275140123408117763 2020-06-22 18:54:31 +0000 <DMBFanUltraRun> The peak of disgusting humans\n"
          ],
          "name": "stdout"
        }
      ]
    }
  ]
}